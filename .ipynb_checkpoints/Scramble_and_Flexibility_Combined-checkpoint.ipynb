{
 "cells": [
  {
   "cell_type": "code",
   "execution_count": 1,
   "metadata": {},
   "outputs": [],
   "source": [
    "import utils \n",
    "\n",
    "\n",
    " #constant for our research purposes\n",
    "#needs to be the path to where the data is\n",
    "path = \"/Users/nivaranavat/UCI Research/Data\""
   ]
  },
  {
   "cell_type": "code",
   "execution_count": 2,
   "metadata": {},
   "outputs": [],
   "source": [
    "# #create our random time series\n",
    "#utils.getRandomTimeSeries(path, min_freq = 0.01, max_freq = 0.1, samples = 200, samplerate =2, amt = 12)"
   ]
  },
  {
   "cell_type": "code",
   "execution_count": 3,
   "metadata": {},
   "outputs": [],
   "source": [
    "# #phase scramble the drugs that we have\n",
    "# #calculate the small worldness of each brain observed with the scrambled brain\n",
    "# #need to figure out a threshold \n",
    "\n",
    "# drug_list = (\"SAL\", \"COC\", \"MDPV\")\n",
    "# utils.phaseScrambled(drug_list, path, filesize = 200, iterations = 5, threshold = 0.15)\n"
   ]
  },
  {
   "cell_type": "code",
   "execution_count": 4,
   "metadata": {},
   "outputs": [
    {
     "ename": "FileNotFoundError",
     "evalue": "[Errno 2] No such file or directory: '/Users/niva.ranavat/UCI Research/Data'",
     "output_type": "error",
     "traceback": [
      "\u001b[0;31m---------------------------------------------------------------------------\u001b[0m",
      "\u001b[0;31mFileNotFoundError\u001b[0m                         Traceback (most recent call last)",
      "\u001b[0;32m/var/folders/7k/7d63b43x4lq3w7c_9yfg81440000gn/T/ipykernel_44760/3705732392.py\u001b[0m in \u001b[0;36m<module>\u001b[0;34m\u001b[0m\n\u001b[1;32m     14\u001b[0m \u001b[0mtimepoints\u001b[0m \u001b[0;34m=\u001b[0m \u001b[0;34m[\u001b[0m\u001b[0;36m30\u001b[0m\u001b[0;34m,\u001b[0m\u001b[0;36m60\u001b[0m\u001b[0;34m,\u001b[0m\u001b[0;36m90\u001b[0m\u001b[0;34m,\u001b[0m\u001b[0;36m120\u001b[0m\u001b[0;34m,\u001b[0m\u001b[0;36m150\u001b[0m\u001b[0;34m]\u001b[0m\u001b[0;34m\u001b[0m\u001b[0;34m\u001b[0m\u001b[0m\n\u001b[1;32m     15\u001b[0m \u001b[0mfolder_name\u001b[0m \u001b[0;34m=\u001b[0m \u001b[0;34m\"results/timewindows[30,60,90,120,150]\"\u001b[0m\u001b[0;34m\u001b[0m\u001b[0;34m\u001b[0m\u001b[0m\n\u001b[0;32m---> 16\u001b[0;31m \u001b[0mflexibility\u001b[0m\u001b[0;34m,\u001b[0m \u001b[0mfig\u001b[0m \u001b[0;34m=\u001b[0m \u001b[0mutils\u001b[0m\u001b[0;34m.\u001b[0m\u001b[0mcalculate_flexibility\u001b[0m\u001b[0;34m(\u001b[0m\u001b[0mpath\u001b[0m\u001b[0;34m,\u001b[0m \u001b[0mdrug_list\u001b[0m\u001b[0;34m,\u001b[0m \u001b[0mtimepoints\u001b[0m\u001b[0;34m,\u001b[0m \u001b[0mplot_ranges\u001b[0m\u001b[0;34m,\u001b[0m\u001b[0mfolder_name\u001b[0m\u001b[0;34m)\u001b[0m\u001b[0;34m\u001b[0m\u001b[0;34m\u001b[0m\u001b[0m\n\u001b[0m\u001b[1;32m     17\u001b[0m \u001b[0mfig\u001b[0m\u001b[0;34m.\u001b[0m\u001b[0msuptitle\u001b[0m\u001b[0;34m(\u001b[0m\u001b[0;34mf\"Flexibility's Standard Deviation, Coefficient of Variation, and Mean for each Drug with time windows {timepoints}, splits of 50 and shifts of 1\"\u001b[0m\u001b[0;34m)\u001b[0m\u001b[0;34m\u001b[0m\u001b[0;34m\u001b[0m\u001b[0m\n\u001b[1;32m     18\u001b[0m \u001b[0mfig\u001b[0m\u001b[0;34m.\u001b[0m\u001b[0msavefig\u001b[0m\u001b[0;34m(\u001b[0m\u001b[0;34m\"flexibility__with_timepoints[30,60,90,120,150].png\"\u001b[0m\u001b[0;34m)\u001b[0m\u001b[0;34m\u001b[0m\u001b[0;34m\u001b[0m\u001b[0m\n",
      "\u001b[0;32m~/UCI Research/utils.py\u001b[0m in \u001b[0;36mcalculate_flexibility\u001b[0;34m(data_path, drugs_list, timepoints, plot_ranges, folder_name)\u001b[0m\n\u001b[1;32m    562\u001b[0m         \u001b[0mresult_dict\u001b[0m\u001b[0;34m[\u001b[0m\u001b[0mdrugs_list\u001b[0m\u001b[0;34m[\u001b[0m\u001b[0mi\u001b[0m\u001b[0;34m]\u001b[0m\u001b[0;34m]\u001b[0m \u001b[0;34m=\u001b[0m \u001b[0mdefaultdict\u001b[0m\u001b[0;34m(\u001b[0m\u001b[0mdict\u001b[0m\u001b[0;34m)\u001b[0m \u001b[0;31m#defaultdict(np.ndarray)\u001b[0m\u001b[0;34m\u001b[0m\u001b[0;34m\u001b[0m\u001b[0m\n\u001b[1;32m    563\u001b[0m \u001b[0;34m\u001b[0m\u001b[0m\n\u001b[0;32m--> 564\u001b[0;31m     \u001b[0;32mfor\u001b[0m \u001b[0mdir\u001b[0m \u001b[0;32min\u001b[0m \u001b[0mPath\u001b[0m\u001b[0;34m(\u001b[0m\u001b[0mdata_path\u001b[0m\u001b[0;34m)\u001b[0m\u001b[0;34m.\u001b[0m\u001b[0miterdir\u001b[0m\u001b[0;34m(\u001b[0m\u001b[0;34m)\u001b[0m\u001b[0;34m:\u001b[0m\u001b[0;34m\u001b[0m\u001b[0;34m\u001b[0m\u001b[0m\n\u001b[0m\u001b[1;32m    565\u001b[0m         \u001b[0;32mif\u001b[0m \u001b[0mdir\u001b[0m\u001b[0;34m.\u001b[0m\u001b[0mis_dir\u001b[0m\u001b[0;34m(\u001b[0m\u001b[0;34m)\u001b[0m\u001b[0;34m:\u001b[0m\u001b[0;34m\u001b[0m\u001b[0;34m\u001b[0m\u001b[0m\n\u001b[1;32m    566\u001b[0m             \u001b[0msplit_roi\u001b[0m \u001b[0;34m=\u001b[0m \u001b[0;34m[\u001b[0m\u001b[0;32mNone\u001b[0m\u001b[0;34m]\u001b[0m \u001b[0;34m*\u001b[0m \u001b[0mlen\u001b[0m\u001b[0;34m(\u001b[0m\u001b[0mtimepoints\u001b[0m\u001b[0;34m)\u001b[0m\u001b[0;34m\u001b[0m\u001b[0;34m\u001b[0m\u001b[0m\n",
      "\u001b[0;32m/opt/anaconda3/lib/python3.7/pathlib.py\u001b[0m in \u001b[0;36miterdir\u001b[0;34m(self)\u001b[0m\n\u001b[1;32m   1088\u001b[0m         \u001b[0;32mif\u001b[0m \u001b[0mself\u001b[0m\u001b[0;34m.\u001b[0m\u001b[0m_closed\u001b[0m\u001b[0;34m:\u001b[0m\u001b[0;34m\u001b[0m\u001b[0;34m\u001b[0m\u001b[0m\n\u001b[1;32m   1089\u001b[0m             \u001b[0mself\u001b[0m\u001b[0;34m.\u001b[0m\u001b[0m_raise_closed\u001b[0m\u001b[0;34m(\u001b[0m\u001b[0;34m)\u001b[0m\u001b[0;34m\u001b[0m\u001b[0;34m\u001b[0m\u001b[0m\n\u001b[0;32m-> 1090\u001b[0;31m         \u001b[0;32mfor\u001b[0m \u001b[0mname\u001b[0m \u001b[0;32min\u001b[0m \u001b[0mself\u001b[0m\u001b[0;34m.\u001b[0m\u001b[0m_accessor\u001b[0m\u001b[0;34m.\u001b[0m\u001b[0mlistdir\u001b[0m\u001b[0;34m(\u001b[0m\u001b[0mself\u001b[0m\u001b[0;34m)\u001b[0m\u001b[0;34m:\u001b[0m\u001b[0;34m\u001b[0m\u001b[0;34m\u001b[0m\u001b[0m\n\u001b[0m\u001b[1;32m   1091\u001b[0m             \u001b[0;32mif\u001b[0m \u001b[0mname\u001b[0m \u001b[0;32min\u001b[0m \u001b[0;34m{\u001b[0m\u001b[0;34m'.'\u001b[0m\u001b[0;34m,\u001b[0m \u001b[0;34m'..'\u001b[0m\u001b[0;34m}\u001b[0m\u001b[0;34m:\u001b[0m\u001b[0;34m\u001b[0m\u001b[0;34m\u001b[0m\u001b[0m\n\u001b[1;32m   1092\u001b[0m                 \u001b[0;31m# Yielding a path object for these makes little sense\u001b[0m\u001b[0;34m\u001b[0m\u001b[0;34m\u001b[0m\u001b[0;34m\u001b[0m\u001b[0m\n",
      "\u001b[0;31mFileNotFoundError\u001b[0m: [Errno 2] No such file or directory: '/Users/niva.ranavat/UCI Research/Data'"
     ]
    }
   ],
   "source": [
    "#calculate flexibility of each every data set\n",
    "drug_list = (\"RANDOM\",\"SAL\", \"OrgSCRSAL\",\"SCRSAL\",\"COC\",\"OrgSCRCOC\",\"SCRCOC\", \"MDPV\",\"OrgSCRMDPV\",\"SCRMDPV\")\n",
    "plot_ranges = {\"RANDOM\" : {\"mean\" : [0,0.11], \"cov\" : [0.15, 2] , \"sdv\": [0,0.04] } ,\n",
    "              \"SAL\" : {\"mean\" : [0,0.11], \"cov\" : [0.15, 2.6] , \"sdv\": [0,0.04] }, \n",
    "              \"OrgSCRSAL\" : {\"mean\" : [0,0.125], \"cov\" : [0.15, 2] , \"sdv\": [0,0.04] },\n",
    "              \"SCRSAL\" : {\"mean\" : [0,0.11], \"cov\" : [0.15, 2] , \"sdv\": [0,0.04] },\n",
    "              \"COC\": {\"mean\" : [0,0.11], \"cov\" : [0.15, 2.6] , \"sdv\": [0,0.04] },\n",
    "               \"OrgSCRCOC\": {\"mean\" : [0,0.125], \"cov\" : [0.15, 2] , \"sdv\": [0,0.04] },\n",
    "              \"SCRCOC\": {\"mean\" : [0,0.15], \"cov\" : [0.15, 2] , \"sdv\": [0,0.04] },\n",
    "              \"MDPV\": {\"mean\" : [0,0.11], \"cov\" : [0.15, 2.6] , \"sdv\": [0,0.04] },\n",
    "               \"OrgSCRMDPV\": {\"mean\" : [0,0.125], \"cov\" : [0.15, 2] , \"sdv\": [0,0.04] },\n",
    "              \"SCRMDPV\": {\"mean\" : [0,0.11], \"cov\" : [0.15, 2] , \"sdv\": [0,0.04] }}\n",
    "\n",
    "timepoints = [30,60,90,120,150]\n",
    "folder_name = \"results/timewindows[30,60,90,120,150]\"\n",
    "flexibility, fig = utils.calculate_flexibility(path, drug_list, timepoints, plot_ranges,folder_name)\n",
    "fig.suptitle(f\"Flexibility's Standard Deviation, Coefficient of Variation, and Mean for each Drug with time windows {timepoints}, splits of 50 and shifts of 1\")\n",
    "fig.savefig(\"flexibility__with_timepoints[30,60,90,120,150].png\")\n"
   ]
  },
  {
   "cell_type": "code",
   "execution_count": null,
   "metadata": {},
   "outputs": [],
   "source": [
    "#calculate flexibility of each every data set we have with the time shifts\n",
    "drug_list = (\"RANDOM\",\"SAL\", \"OrgSCRSAL\",\"SCRSAL\",\"COC\",\"OrgSCRCOC\",\"SCRCOC\", \"MDPV\",\"OrgSCRMDPV\",\"SCRMDPV\")\n",
    "plot_ranges = {\"RANDOM\" : {\"sdv\" : [0,0.15], \"cov\" : [0.15, 2.5] , \"mean\": [0,0.35] } ,\n",
    "              \"SAL\" : {\"sdv\" : [0,0.15], \"cov\" : [0.15, 5.25] , \"mean\": [0,0.35] }, \n",
    "               \"OrgSCRSAL\" : {\"sdv\" : [0,0.15], \"cov\" : [0.15, 2.5] , \"mean\": [0,0.4] },\n",
    "              \"SCRSAL\" : {\"sdv\" : [0,0.15], \"cov\" : [0.15, 2.5] , \"mean\": [0,0.35] },\n",
    "              \"COC\": {\"sdv\" : [0,0.15], \"cov\" : [0.15, 5.25] , \"mean\": [0,0.35] },\n",
    "               \"OrgSCRCOC\": {\"sdv\" : [0,0.15], \"cov\" : [0.15, 2.5] , \"mean\": [0,0.4] },\n",
    "              \"SCRCOC\": {\"sdv\" : [0,0.15], \"cov\" : [0.15, 2.5] , \"mean\": [0,0.35] },\n",
    "              \"MDPV\": {\"sdv\" : [0,0.15], \"cov\" : [0.15, 5.25] , \"mean\": [0,0.35] },\n",
    "               \"OrgSCRMDPV\": {\"sdv\" : [0,0.15], \"cov\" : [0.15, 2.5] , \"mean\": [0,0.4] },\n",
    "              \"SCRMDPV\": {\"sdv\" : [0,0.15], \"cov\" : [0.15, 2.5] , \"mean\": [0,0.35] }}\n",
    "\n",
    "timepoints = 90\n",
    "splits = 12\n",
    "shifts = [1,3,5,7,10]\n",
    "folder_name = \"results/timeshifts[1,3,5,7,10]\"\n",
    "flexibility,fig, small_worldness = utils.calculate_flexilibity_with_timeshifts_and_save(timepoints, splits, shifts, drug_list, path, plot_ranges, folder_name)\n",
    "fig.suptitle(f\"Flexibility's Standard Deviation, Coefficient of Variation, and Mean for each Drug with time windows {timepoints} splits of {splits} and shifts of {shifts}\")\n",
    "fig.savefig(\"flexibility_with_timewindow90_timeshifts[1,3,5,7,10].png\")\n"
   ]
  },
  {
   "cell_type": "code",
   "execution_count": null,
   "metadata": {},
   "outputs": [],
   "source": [
    "#calculate flexibility of each every data set we have with the time shifts\n",
    "drug_list = (\"RANDOM\",\"SAL\", \"OrgSCRSAL\",\"SCRSAL\",\"COC\",\"OrgSCRCOC\",\"SCRCOC\", \"MDPV\",\"OrgSCRMDPV\",\"SCRMDPV\")\n",
    "plot_ranges = {\"RANDOM\" : {\"sdv\" : [0.03,0.1], \"cov\" : [0, 1] , \"mean\": [0.07,0.25] } ,\n",
    "              \"SAL\" : {\"sdv\" : [0.03,0.1], \"cov\" : [0, 1] , \"mean\": [0.07,0.25] }, \n",
    "               \"OrgSCRSAL\" : {\"sdv\" : [0.03,0.1], \"cov\" : [0, 1] , \"mean\": [0.07,0.25] },\n",
    "              \"SCRSAL\" : {\"sdv\" : [0.03,0.1], \"cov\" : [0, 1] , \"mean\": [0.07,0.25] },\n",
    "              \"COC\": {\"sdv\" : [0.03,0.1], \"cov\" : [0, 1] , \"mean\": [0.07,0.25] },\n",
    "               \"OrgSCRCOC\": {\"sdv\" : [0.03,0.1], \"cov\" : [0, 1] , \"mean\": [0.07,0.25] },\n",
    "              \"SCRCOC\": {\"sdv\" : [0.03,0.1], \"cov\" : [0, 1] , \"mean\": [0.07,0.25] },\n",
    "              \"MDPV\": {\"sdv\" : [0.03,0.1], \"cov\" : [0, 1] , \"mean\": [0.07,0.25] },\n",
    "               \"OrgSCRMDPV\": {\"sdv\" : [0.03,0.1], \"cov\" : [0,1] , \"mean\": [0.07,0.25] },\n",
    "              \"SCRMDPV\": {\"sdv\" : [0.03,0.1], \"cov\" : [0,1] , \"mean\": [0.07,0.25] }}\n",
    "\n",
    "timepoints = 60\n",
    "splits = 28\n",
    "shifts = [5]\n",
    "folder_name = \"results/timeshift5_splits28\"\n",
    "#need to take the small worldness average here\n",
    "flexibility,fig,small_worldness = utils.calculate_flexilibity_with_timeshifts_and_save(timepoints, splits, shifts, drug_list, path,plot_ranges,folder_name, small_worldness_calc = True)\n",
    "fig.suptitle(f\"Flexibility's Standard Deviation, Coefficient of Variation, and Mean for each Drug with time windows {timepoints}, splits of {splits} and shifts of {shifts}\")\n",
    "fig.savefig(\"flexibility_with_timewindow60_timeshifts5_28splits.png\")"
   ]
  },
  {
   "cell_type": "code",
   "execution_count": null,
   "metadata": {},
   "outputs": [],
   "source": [
    "print(f\"Small Worldness with timeshifts {shifts} calculated with {timepoints} size time window\")\n",
    "    \n",
    "import os\n",
    "    \n",
    "if not os.path.isdir(\"small_worldness\"):\n",
    "    os.makedirs(\"small_worldness\")\n",
    "for drug in drug_list:\n",
    "    filename  = \"small_worldness/\" + drug + \".txt\"\n",
    "    with open(filename,\"w\") as f:\n",
    "            for key, value in small_worldness[drug][0].items(): \n",
    "                f.write('%s:%s\\n' % ( key,value[0][1]))"
   ]
  },
  {
   "cell_type": "code",
   "execution_count": null,
   "metadata": {},
   "outputs": [],
   "source": [
    "from matplotlib import pyplot as plt\n",
    "#draw out our last plot that is going to cover all the values calculated for the specified parameters\n",
    "drug_sdv = {}\n",
    "drug_cov = {}\n",
    "drug_mean = {}\n",
    "\n",
    "drug_names = {\"SAL\" : \"Saline\" , \"COC\" : \"Cocaine\", \"MDPV\" : \"MDPV\", \"RANDOM\": \"Random\"} #mapping of the abbreivated name to full name of drug\n",
    "\n",
    "for drug, flex in flexibility.items():\n",
    "    if drug in drug_names:\n",
    "        name = drug_names[drug]\n",
    "    if \"SCR\" in drug:\n",
    "        name = \"\\u03BB'\" + drug_names[drug.split(\"SCR\")[1]]\n",
    "    if \"OrgSCR\" in drug:\n",
    "        name = \"\\u03BB''\" + drug_names[drug.split(\"SCR\")[1]]\n",
    "    drug_sdv[name] = flex[0][5]\n",
    "    drug_cov[name] = flex[1][5]\n",
    "    drug_mean[name] = flex[2][5]\n",
    "\n",
    "fig = plt.figure(figsize = (15,15))\n",
    "utils.box_plot(drug_sdv, (1,1,1), fig, \"\", \"\\u03C3\", [0.02,0.1])\n",
    "fig.savefig(\"sdv_window60_shift5.png\")\n",
    "    \n",
    "\n",
    "fig = plt.figure(figsize = (15,15))\n",
    "utils.box_plot(drug_cov, (1,1,1), fig, \"\", \"CoV\", [0, 1])\n",
    "fig.savefig(\"cov_window60_shift5.png\")\n",
    "\n",
    "\n",
    "fig = plt.figure(figsize = (15,15))\n",
    "utils.box_plot(drug_mean, (1,1,1), fig, \"\", \"\\u03BC\", [0,0.25])\n",
    "fig.savefig(\"mean_window60_shift5.png\")\n",
    "    "
   ]
  },
  {
   "cell_type": "code",
   "execution_count": null,
   "metadata": {},
   "outputs": [],
   "source": []
  },
  {
   "cell_type": "code",
   "execution_count": null,
   "metadata": {},
   "outputs": [],
   "source": []
  }
 ],
 "metadata": {
  "kernelspec": {
   "display_name": "Python 3 (ipykernel)",
   "language": "python",
   "name": "python3"
  },
  "language_info": {
   "codemirror_mode": {
    "name": "ipython",
    "version": 3
   },
   "file_extension": ".py",
   "mimetype": "text/x-python",
   "name": "python",
   "nbconvert_exporter": "python",
   "pygments_lexer": "ipython3",
   "version": "3.7.4"
  }
 },
 "nbformat": 4,
 "nbformat_minor": 4
}
