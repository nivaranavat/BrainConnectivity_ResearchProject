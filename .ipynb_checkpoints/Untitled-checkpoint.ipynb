{
 "cells": [
  {
   "cell_type": "code",
   "execution_count": 1,
   "metadata": {},
   "outputs": [],
   "source": [
    "#1. is data being received even the same x\n",
    "#2. is the threshold the same x\n",
    "#3. is the split roi the same x\n",
    "#4. is the flexibility the same ding very very different\n",
    "    # 4a is it the threshold x\n",
    "    #4b is it the graph build\n",
    "    #is it the flexiblity function,the modularity being calculated is different\n",
    "    #i think it is supposed to change, because her's changes too each time, there is some randomness\n"
   ]
  },
  {
   "cell_type": "code",
   "execution_count": null,
   "metadata": {},
   "outputs": [],
   "source": [
    "#testing if it works for complex numbers\n",
    "import utils \n",
    "\n",
    "path = \"/Users/niva.ranavat/UCI Research/Data\" #constant for our research purposes\n",
    "\n",
    "drug_list = (\"SAL\",)\n",
    "timepoints = [30,60,90,120,150]\n",
    "\n",
    "small_worldness = utils.phaseScramble_and_smallWorldness(drug_list, path, filesize = 200, iterations = 5, threshold = 0.15)\n",
    "for drug, sw in small_worldness.items():\n",
    "    print(\"Small worldness calculated for:\",drug, sw)\n",
    "    print()\n",
    "   \n",
    "\n",
    "drug_list = (\"SAL\",)\n",
    "timepoints = [30,60,90,120,150]\n",
    "result_dict, flexibility,fig = utils.calculate_flexibility(path, drug_list, timepoints)\n",
    "fig.savefig(\"testingflex.jpg\")\n",
    "for drug, flex in flexibility.items():\n",
    "    print(\"Flexibility calculated for:\",drug, flex )\n",
    "    print()"
   ]
  },
  {
   "cell_type": "code",
   "execution_count": null,
   "metadata": {},
   "outputs": [],
   "source": [
    "#ok so they are different issue is when calculating flexibility \n",
    "#when we are transfering a networkx graph to numpy array\n"
   ]
  },
  {
   "cell_type": "code",
   "execution_count": null,
   "metadata": {},
   "outputs": [],
   "source": []
  },
  {
   "cell_type": "code",
   "execution_count": null,
   "metadata": {},
   "outputs": [],
   "source": [
    "# small_worldness = utils.phaseScramble_and_smallWorldness(drug_list, path, filesize = 200, iterations = 1, threshold = 0.15)\n",
    "# for drug, sw in small_worldness.items():\n",
    "#     print(\"Small worldness calculated for:\",drug, sw)\n",
    "#     print()"
   ]
  },
  {
   "cell_type": "code",
   "execution_count": null,
   "metadata": {},
   "outputs": [],
   "source": [
    "\n",
    "import matplotlib.pyplot as plt\n",
    "from pathlib import Path"
   ]
  },
  {
   "cell_type": "code",
   "execution_count": null,
   "metadata": {},
   "outputs": [],
   "source": [
    "#read the MRI data first and plot\n",
    "roi_timeseries = utils.load_txt(Path('/Users/niva.ranavat/UCI Research/Data/SAL_01'))\n",
    "fig, ax = plt.subplots(nrows=1 , ncols=3, figsize=(25, 5))\n",
    "for i in roi_timeseries:\n",
    "    ax[0].plot(range(200),i)\n",
    "    ax[0].set_title(\"SAL Original Time Series\")\n",
    "    ax[0].set_xlabel(\"Time\")\n",
    "    ax[0].set_ylabel(\"MRI Value\")\n",
    "    \n",
    "roi_timeseries = utils.load_txt(Path('/Users/niva.ranavat/UCI Research/Data/SCRSAL_01_1'))\n",
    "print(roi_timeseries)\n",
    "for i in roi_timeseries:\n",
    "    ax[1].plot(range(200),i)\n",
    "    ax[1].set_title(\"Phase Scrambled SAL #1 Time Series\")\n",
    "    ax[1].set_xlabel(\"Time\")\n",
    "    ax[1].set_ylabel(\"MRI Value\")\n",
    "    \n",
    "roi_timeseries = utils.load_txt(Path('/Users/niva.ranavat/UCI Research/Data/SCRSAL_01_2/'))\n",
    "for i in roi_timeseries:\n",
    "    ax[2].plot(range(200),i)\n",
    "    ax[2].set_title(\"Phase Scrambled SAL #2  Time Series\")\n",
    "    ax[2].set_xlabel(\"Time\")\n",
    "    ax[2].set_ylabel(\"MRI Value\")\n",
    "    \n"
   ]
  },
  {
   "cell_type": "code",
   "execution_count": null,
   "metadata": {},
   "outputs": [],
   "source": [
    "\n"
   ]
  }
 ],
 "metadata": {
  "kernelspec": {
   "display_name": "Python 3",
   "language": "python",
   "name": "python3"
  },
  "language_info": {
   "codemirror_mode": {
    "name": "ipython",
    "version": 3
   },
   "file_extension": ".py",
   "mimetype": "text/x-python",
   "name": "python",
   "nbconvert_exporter": "python",
   "pygments_lexer": "ipython3",
   "version": "3.7.4"
  }
 },
 "nbformat": 4,
 "nbformat_minor": 4
}
